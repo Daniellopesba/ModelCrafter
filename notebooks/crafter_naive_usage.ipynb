{
 "cells": [
  {
   "cell_type": "markdown",
   "source": [
    "# Linear Regression Model Comparison with the Crafter Class\n",
    "\n",
    "This notebook demonstrates the use of the custom `Crafter` class to compare different linear regression models. We will be using the Prostate Cancer dataset to predict logarithm of prostate-specific antigen (`lcavol`). The models we'll compare are:\n",
    "\n",
    "- Linear Regression\n",
    "- Lasso Regression\n",
    "- Ridge Regression\n",
    "\n",
    "We'll use our custom `split_data` utility function for data splitting and then fit each model to the training data. Finally, we'll make and compare predictions from each model.\n"
   ],
   "metadata": {
    "collapsed": false
   },
   "id": "2c681717b1a7f633"
  },
  {
   "cell_type": "markdown",
   "source": [
    "## Importing Necessary Libraries and Setup\n",
    "\n",
    "Before we start, let's import the necessary libraries. We need scikit-learn for the regression models, pandas for data handling, and our custom modules: `Crafter` for model crafting and `split_data` for data splitting.\n"
   ],
   "metadata": {
    "collapsed": false
   },
   "id": "507df9d7dd1f103a"
  },
  {
   "cell_type": "code",
   "outputs": [],
   "source": [
    "from sklearn.linear_model import LinearRegression, Lasso, Ridge\n",
    "from utils.data_split import split_data\n",
    "import os\n",
    "\n",
    "os.chdir(\"/Users/daniel.lopes/Projects/personal/ModelCrafter\")\n",
    "from crafter.crafter import Crafter"
   ],
   "metadata": {
    "collapsed": true,
    "ExecuteTime": {
     "end_time": "2024-01-21T00:43:51.246807Z",
     "start_time": "2024-01-21T00:43:48.297072Z"
    }
   },
   "id": "initial_id",
   "execution_count": 1
  },
  {
   "cell_type": "markdown",
   "source": [
    "## Loading and Preparing the Data\n",
    "\n",
    "We'll load the Prostate Cancer dataset using pandas and then split it into training and testing sets. The target variable is 'lcavol', and we will split the data randomly with a test size of 20%.\n"
   ],
   "metadata": {
    "collapsed": false
   },
   "id": "49a25dfd9b1cb217"
  },
  {
   "cell_type": "code",
   "outputs": [],
   "source": [
    "import pandas as pd\n",
    "\n",
    "data = pd.read_csv(\"data/raw/prostate.csv\")"
   ],
   "metadata": {
    "collapsed": false,
    "ExecuteTime": {
     "end_time": "2024-01-21T00:43:51.263942Z",
     "start_time": "2024-01-21T00:43:51.249765Z"
    }
   },
   "id": "4b1a32d858964253",
   "execution_count": 2
  },
  {
   "cell_type": "code",
   "outputs": [
    {
     "data": {
      "text/plain": "      lcavol   lweight  age      lbph  svi       lcp  gleason  pgg45  \\\n0  -0.579818  2.769459   50 -1.386294    0 -1.386294        6      0   \n1  -0.994252  3.319626   58 -1.386294    0 -1.386294        6      0   \n2  -0.510826  2.691243   74 -1.386294    0 -1.386294        7     20   \n3  -1.203973  3.282789   58 -1.386294    0 -1.386294        6      0   \n4   0.751416  3.432373   62 -1.386294    0 -1.386294        6      0   \n..       ...       ...  ...       ...  ...       ...      ...    ...   \n92  2.830268  3.876396   68 -1.386294    1  1.321756        7     60   \n93  3.821004  3.896909   44 -1.386294    1  2.169054        7     40   \n94  2.907447  3.396185   52 -1.386294    1  2.463853        7     10   \n95  2.882564  3.773910   68  1.558145    1  1.558145        7     80   \n96  3.471966  3.974998   68  0.438255    1  2.904165        7     20   \n\n        lpsa  train  \n0  -0.430783   True  \n1  -0.162519   True  \n2  -0.162519   True  \n3  -0.162519   True  \n4   0.371564   True  \n..       ...    ...  \n92  4.385147   True  \n93  4.684443   True  \n94  5.143124  False  \n95  5.477509   True  \n96  5.582932  False  \n\n[97 rows x 10 columns]",
      "text/html": "<div>\n<style scoped>\n    .dataframe tbody tr th:only-of-type {\n        vertical-align: middle;\n    }\n\n    .dataframe tbody tr th {\n        vertical-align: top;\n    }\n\n    .dataframe thead th {\n        text-align: right;\n    }\n</style>\n<table border=\"1\" class=\"dataframe\">\n  <thead>\n    <tr style=\"text-align: right;\">\n      <th></th>\n      <th>lcavol</th>\n      <th>lweight</th>\n      <th>age</th>\n      <th>lbph</th>\n      <th>svi</th>\n      <th>lcp</th>\n      <th>gleason</th>\n      <th>pgg45</th>\n      <th>lpsa</th>\n      <th>train</th>\n    </tr>\n  </thead>\n  <tbody>\n    <tr>\n      <th>0</th>\n      <td>-0.579818</td>\n      <td>2.769459</td>\n      <td>50</td>\n      <td>-1.386294</td>\n      <td>0</td>\n      <td>-1.386294</td>\n      <td>6</td>\n      <td>0</td>\n      <td>-0.430783</td>\n      <td>True</td>\n    </tr>\n    <tr>\n      <th>1</th>\n      <td>-0.994252</td>\n      <td>3.319626</td>\n      <td>58</td>\n      <td>-1.386294</td>\n      <td>0</td>\n      <td>-1.386294</td>\n      <td>6</td>\n      <td>0</td>\n      <td>-0.162519</td>\n      <td>True</td>\n    </tr>\n    <tr>\n      <th>2</th>\n      <td>-0.510826</td>\n      <td>2.691243</td>\n      <td>74</td>\n      <td>-1.386294</td>\n      <td>0</td>\n      <td>-1.386294</td>\n      <td>7</td>\n      <td>20</td>\n      <td>-0.162519</td>\n      <td>True</td>\n    </tr>\n    <tr>\n      <th>3</th>\n      <td>-1.203973</td>\n      <td>3.282789</td>\n      <td>58</td>\n      <td>-1.386294</td>\n      <td>0</td>\n      <td>-1.386294</td>\n      <td>6</td>\n      <td>0</td>\n      <td>-0.162519</td>\n      <td>True</td>\n    </tr>\n    <tr>\n      <th>4</th>\n      <td>0.751416</td>\n      <td>3.432373</td>\n      <td>62</td>\n      <td>-1.386294</td>\n      <td>0</td>\n      <td>-1.386294</td>\n      <td>6</td>\n      <td>0</td>\n      <td>0.371564</td>\n      <td>True</td>\n    </tr>\n    <tr>\n      <th>...</th>\n      <td>...</td>\n      <td>...</td>\n      <td>...</td>\n      <td>...</td>\n      <td>...</td>\n      <td>...</td>\n      <td>...</td>\n      <td>...</td>\n      <td>...</td>\n      <td>...</td>\n    </tr>\n    <tr>\n      <th>92</th>\n      <td>2.830268</td>\n      <td>3.876396</td>\n      <td>68</td>\n      <td>-1.386294</td>\n      <td>1</td>\n      <td>1.321756</td>\n      <td>7</td>\n      <td>60</td>\n      <td>4.385147</td>\n      <td>True</td>\n    </tr>\n    <tr>\n      <th>93</th>\n      <td>3.821004</td>\n      <td>3.896909</td>\n      <td>44</td>\n      <td>-1.386294</td>\n      <td>1</td>\n      <td>2.169054</td>\n      <td>7</td>\n      <td>40</td>\n      <td>4.684443</td>\n      <td>True</td>\n    </tr>\n    <tr>\n      <th>94</th>\n      <td>2.907447</td>\n      <td>3.396185</td>\n      <td>52</td>\n      <td>-1.386294</td>\n      <td>1</td>\n      <td>2.463853</td>\n      <td>7</td>\n      <td>10</td>\n      <td>5.143124</td>\n      <td>False</td>\n    </tr>\n    <tr>\n      <th>95</th>\n      <td>2.882564</td>\n      <td>3.773910</td>\n      <td>68</td>\n      <td>1.558145</td>\n      <td>1</td>\n      <td>1.558145</td>\n      <td>7</td>\n      <td>80</td>\n      <td>5.477509</td>\n      <td>True</td>\n    </tr>\n    <tr>\n      <th>96</th>\n      <td>3.471966</td>\n      <td>3.974998</td>\n      <td>68</td>\n      <td>0.438255</td>\n      <td>1</td>\n      <td>2.904165</td>\n      <td>7</td>\n      <td>20</td>\n      <td>5.582932</td>\n      <td>False</td>\n    </tr>\n  </tbody>\n</table>\n<p>97 rows × 10 columns</p>\n</div>"
     },
     "execution_count": 3,
     "metadata": {},
     "output_type": "execute_result"
    }
   ],
   "source": [
    "data"
   ],
   "metadata": {
    "collapsed": false,
    "ExecuteTime": {
     "end_time": "2024-01-21T00:43:51.292764Z",
     "start_time": "2024-01-21T00:43:51.268798Z"
    }
   },
   "id": "5ab1134f4ddb043f",
   "execution_count": 3
  },
  {
   "cell_type": "code",
   "outputs": [],
   "source": [
    "X_train, X_test, y_train, y_test = split_data(\n",
    "    data=data, target_column=\"lcavol\", split_method=\"random\", test_size=0.2\n",
    ")"
   ],
   "metadata": {
    "collapsed": false,
    "ExecuteTime": {
     "end_time": "2024-01-21T00:43:51.311965Z",
     "start_time": "2024-01-21T00:43:51.301472Z"
    }
   },
   "id": "3734e175197470de",
   "execution_count": 4
  },
  {
   "cell_type": "markdown",
   "source": [
    "## Defining the Modeling Steps\n",
    "\n",
    "Next, we define the steps for our `Crafter` pipeline. Each step represents a model with its configuration. We are using three models: Linear Regression, Lasso, and Ridge Regression. Each model will be trained and evaluated independently.\n"
   ],
   "metadata": {
    "collapsed": false
   },
   "id": "4d3f8477dd467144"
  },
  {
   "cell_type": "code",
   "outputs": [],
   "source": [
    "steps = [\n",
    "    (LinearRegression(), False, False),\n",
    "    (Lasso(alpha=1.0), False, False),\n",
    "    (Ridge(alpha=1.0), False, False),\n",
    "]"
   ],
   "metadata": {
    "collapsed": false,
    "ExecuteTime": {
     "end_time": "2024-01-21T00:43:51.330374Z",
     "start_time": "2024-01-21T00:43:51.310995Z"
    }
   },
   "id": "673c4e7a428dac35",
   "execution_count": 5
  },
  {
   "cell_type": "markdown",
   "source": [
    "## Training and Predicting with Crafter\n",
    "\n",
    "With our models defined, we initialize the `Crafter` class with these steps. We then fit the `Crafter` with our training data and make predictions on the test set. Finally, we'll examine the first few predictions from each model.\n"
   ],
   "metadata": {
    "collapsed": false
   },
   "id": "4e6033bb837a7a2b"
  },
  {
   "cell_type": "code",
   "outputs": [
    {
     "name": "stdout",
     "output_type": "stream",
     "text": [
      "Step 1: LinearRegression\n",
      "[0.85459868 2.06575336 1.78426911 1.18840385 1.66009784]\n",
      "Step 2: Lasso\n",
      "[1.5899858  1.96400965 0.8419381  1.12245599 0.8419381 ]\n",
      "Step 3: Ridge\n",
      "[0.86139844 2.08301713 1.77756646 1.15035999 1.65225605]\n"
     ]
    }
   ],
   "source": [
    "# Initialize Crafter\n",
    "crafter = Crafter(steps)\n",
    "\n",
    "# Fit the Crafter\n",
    "crafter.fit(X_train, y_train)\n",
    "\n",
    "# Make predictions with all models\n",
    "all_predictions = crafter.predict(X_test)\n",
    "\n",
    "# Access predictions\n",
    "for model_name, predictions in all_predictions.items():\n",
    "    print(model_name)\n",
    "    print(predictions[:5])  # Print the first 5 predictions of each model for brevity"
   ],
   "metadata": {
    "collapsed": false,
    "ExecuteTime": {
     "end_time": "2024-01-21T00:43:51.414626Z",
     "start_time": "2024-01-21T00:43:51.337742Z"
    }
   },
   "id": "4faceea828fb2b0",
   "execution_count": 6
  },
  {
   "cell_type": "code",
   "outputs": [],
   "source": [],
   "metadata": {
    "collapsed": false
   },
   "id": "1bf393eee20e146a"
  }
 ],
 "metadata": {
  "kernelspec": {
   "display_name": "Python 3",
   "language": "python",
   "name": "python3"
  },
  "language_info": {
   "codemirror_mode": {
    "name": "ipython",
    "version": 2
   },
   "file_extension": ".py",
   "mimetype": "text/x-python",
   "name": "python",
   "nbconvert_exporter": "python",
   "pygments_lexer": "ipython2",
   "version": "2.7.6"
  }
 },
 "nbformat": 4,
 "nbformat_minor": 5
}
