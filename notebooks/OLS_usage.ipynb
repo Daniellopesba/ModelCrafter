{
 "cells": [
  {
   "cell_type": "code",
   "execution_count": 2,
   "id": "initial_id",
   "metadata": {
    "collapsed": true,
    "ExecuteTime": {
     "end_time": "2024-02-14T13:59:39.223410Z",
     "start_time": "2024-02-14T13:59:39.193297Z"
    }
   },
   "outputs": [],
   "source": [
    "import pandas as pd\n",
    "\n",
    "# import numpy as np\n",
    "import os\n",
    "\n",
    "os.chdir(\"/Users/daniel.lopes/Projects/personal/ModelCrafter\")\n",
    "from crafter.models.linear_regression import LinearRegression as OLS\n",
    "import statsmodels.api as sm\n",
    "from crafter.utils.data_split import split_data\n",
    "\n",
    "# Prepare data\n",
    "data = pd.read_csv(\"data/raw/prostate-cancer.txt\").drop(columns=\"id\")\n",
    "# X_train, X_test, y_train, y_test = split_data(data=data.drop(columns = \"train\"), target_column='lcavol', split_method='random', test_size=0.15 ,random_state=42)\n",
    "\n",
    "# Splitting the data into training and test sets based on the 'train' column\n",
    "train_data = data[data[\"train\"] == \"T\"]\n",
    "test_data = data[data[\"train\"] != \"T\"]\n",
    "\n",
    "# Dropping the 'train' and 'lpsa' columns for the feature sets\n",
    "X_train = train_data.drop(columns=[\"train\", \"lpsa\"])\n",
    "X_test = test_data.drop(columns=[\"train\", \"lpsa\"])\n",
    "\n",
    "# Keeping only the 'lpsa' column for the target sets\n",
    "y_train = train_data[[\"lpsa\"]]\n",
    "y_test = test_data[[\"lpsa\"]]"
   ]
  },
  {
   "cell_type": "code",
   "outputs": [
    {
     "name": "stdout",
     "output_type": "stream",
     "text": [
      "Model Crafter Summary:\n",
      "Feature              | Coefficients    | Std Err    | z          | P>|z|      | [0.025    | 0.975]    \n",
      "======================================================================================================\n",
      "Intercept            | 0.4292          | 1.4455     | 0.2969     | 0.7676     | [-2.4040, 3.2623]\n",
      "lcavol               | 0.5765          | 0.1000     | 5.7676     | 0.0000     | [0.3806, 0.7725]\n",
      "lweight              | 0.6140          | 0.2077     | 2.9565     | 0.0045     | [0.2070, 1.0211]\n",
      "age                  | -0.0190         | 0.0127     | -1.5003    | 0.1390     | [-0.0438, 0.0058]\n",
      "lbph                 | 0.1448          | 0.0656     | 2.2096     | 0.0311     | [0.0164, 0.2733]\n",
      "svi                  | 0.7372          | 0.2778     | 2.6539     | 0.0103     | [0.1928, 1.2817]\n",
      "lcp                  | -0.2063         | 0.1028     | -2.0065    | 0.0495     | [-0.4079, -0.0048]\n",
      "gleason              | -0.0295         | 0.1871     | -0.1577    | 0.8753     | [-0.3963, 0.3373]\n",
      "pgg45                | 0.0095          | 0.0051     | 1.8678     | 0.0668     | [-0.0005, 0.0194]\n"
     ]
    }
   ],
   "source": [
    "model_crafter = OLS(fit_intercept=True)\n",
    "model_crafter.fit(X_train, y_train)\n",
    "\n",
    "# Print the Model Crafter summary\n",
    "print(\"Model Crafter Summary:\")\n",
    "model_crafter.summary()"
   ],
   "metadata": {
    "collapsed": false,
    "ExecuteTime": {
     "end_time": "2024-02-14T13:59:48.185382Z",
     "start_time": "2024-02-14T13:59:48.159588Z"
    }
   },
   "id": "4afce94f1de0bafc",
   "execution_count": 3
  },
  {
   "cell_type": "code",
   "outputs": [
    {
     "name": "stdout",
     "output_type": "stream",
     "text": [
      "\n",
      "Statsmodels Summary:\n",
      "                            OLS Regression Results                            \n",
      "==============================================================================\n",
      "Dep. Variable:                   lpsa   R-squared:                       0.694\n",
      "Model:                            OLS   Adj. R-squared:                  0.652\n",
      "Method:                 Least Squares   F-statistic:                     16.47\n",
      "Date:                Wed, 14 Feb 2024   Prob (F-statistic):           2.04e-12\n",
      "Time:                        10:59:57   Log-Likelihood:                -67.505\n",
      "No. Observations:                  67   AIC:                             153.0\n",
      "Df Residuals:                      58   BIC:                             172.9\n",
      "Df Model:                           8                                         \n",
      "Covariance Type:            nonrobust                                         \n",
      "==============================================================================\n",
      "                 coef    std err          t      P>|t|      [0.025      0.975]\n",
      "------------------------------------------------------------------------------\n",
      "const          0.4292      1.554      0.276      0.783      -2.681       3.539\n",
      "lcavol         0.5765      0.107      5.366      0.000       0.361       0.792\n",
      "lweight        0.6140      0.223      2.751      0.008       0.167       1.061\n",
      "age           -0.0190      0.014     -1.396      0.168      -0.046       0.008\n",
      "lbph           0.1448      0.070      2.056      0.044       0.004       0.286\n",
      "svi            0.7372      0.299      2.469      0.017       0.140       1.335\n",
      "lcp           -0.2063      0.111     -1.867      0.067      -0.428       0.015\n",
      "gleason       -0.0295      0.201     -0.147      0.884      -0.432       0.373\n",
      "pgg45          0.0095      0.005      1.738      0.088      -0.001       0.020\n",
      "==============================================================================\n",
      "Omnibus:                        0.825   Durbin-Watson:                   1.690\n",
      "Prob(Omnibus):                  0.662   Jarque-Bera (JB):                0.389\n",
      "Skew:                          -0.164   Prob(JB):                        0.823\n",
      "Kurtosis:                       3.178   Cond. No.                     1.29e+03\n",
      "==============================================================================\n",
      "\n",
      "Notes:\n",
      "[1] Standard Errors assume that the covariance matrix of the errors is correctly specified.\n",
      "[2] The condition number is large, 1.29e+03. This might indicate that there are\n",
      "strong multicollinearity or other numerical problems.\n"
     ]
    }
   ],
   "source": [
    "# Add an intercept term to X_train for statsmodels\n",
    "X_train_sm = sm.add_constant(X_train)\n",
    "\n",
    "# Fit the model using statsmodels\n",
    "model_sm = sm.OLS(y_train, X_train_sm).fit()\n",
    "\n",
    "# Print the statsmodels summary\n",
    "print(\"\\nStatsmodels Summary:\")\n",
    "print(model_sm.summary())"
   ],
   "metadata": {
    "collapsed": false,
    "ExecuteTime": {
     "end_time": "2024-02-14T13:59:57.647989Z",
     "start_time": "2024-02-14T13:59:57.619432Z"
    }
   },
   "id": "8896f54521912a62",
   "execution_count": 4
  },
  {
   "cell_type": "code",
   "outputs": [],
   "source": [],
   "metadata": {
    "collapsed": false
   },
   "id": "92bbdb99f6c33f9c"
  }
 ],
 "metadata": {
  "kernelspec": {
   "display_name": "Python 3",
   "language": "python",
   "name": "python3"
  },
  "language_info": {
   "codemirror_mode": {
    "name": "ipython",
    "version": 2
   },
   "file_extension": ".py",
   "mimetype": "text/x-python",
   "name": "python",
   "nbconvert_exporter": "python",
   "pygments_lexer": "ipython2",
   "version": "2.7.6"
  }
 },
 "nbformat": 4,
 "nbformat_minor": 5
}
