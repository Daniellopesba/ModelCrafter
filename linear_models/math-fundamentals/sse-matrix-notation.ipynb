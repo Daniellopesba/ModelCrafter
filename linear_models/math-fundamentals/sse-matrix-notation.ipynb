{
 "cells": [
  {
   "cell_type": "code",
   "execution_count": 44,
   "id": "initial_id",
   "metadata": {
    "collapsed": true,
    "ExecuteTime": {
     "end_time": "2023-12-01T18:26:31.326232Z",
     "start_time": "2023-12-01T18:26:31.317268Z"
    }
   },
   "outputs": [],
   "source": [
    "import numpy as np\n",
    "import matplotlib.pyplot as plt\n",
    "\n",
    "from linear_models.least_squares import MatrixLeastSquaresRegression as least_squares"
   ]
  },
  {
   "cell_type": "markdown",
   "source": [
    "# Least Squares Regression - The Normal Equation\n",
    "\n",
    "Least Squares Regression is a method for estimating the coefficients of a linear regression model. The aim is to find the best-fit line through a set of data points by minimizing the sum of the squares of the vertical distances of the points from the line. \n",
    "\n",
    "The formula for the regression line is given by:\n",
    "\n",
    "\\[ Y = X\\beta \\]\n",
    "\n",
    "where:\n",
    "\n",
    "- \\( Y \\) is the dependent variable,\n",
    "- \\( X \\) is the matrix of independent variables,\n",
    "- \\( \\beta \\) is the vector of regression coefficients.\n",
    "\n",
    "The Normal Equation, which is used to solve for \\( \\beta \\), is given by:\n",
    "\n",
    "\\[ \\beta = (X^TX)^{-1}X^TY \\]\n",
    "\n",
    "where:\n",
    "\n",
    "- \\( X^T \\) is the transpose of matrix \\( X \\),\n",
    "- \\( (X^TX)^{-1} \\) is the inverse of matrix \\( X^TX \\).\n",
    "\n",
    "To compute \\( \\beta \\) using the Normal Equation, follow these steps:\n",
    "\n",
    "1. Transpose the matrix \\( X \\) to get \\( X^T \\).\n",
    "2. Multiply \\( X^T \\) with \\( X \\) to get \\( X^TX \\).\n",
    "3. Compute the inverse of \\( X^TX \\).\n",
    "4. Multiply the result with \\( X^T \\) and then with \\( Y \\) to get \\( \\beta \\).\n",
    "\n",
    "It's important to note that this method requires the matrix \\( X^TX \\) to be invertible. If \\( X^TX \\) is singular (not invertible) or nearly singular, the Normal Equation may not perform well. In such cases, alternative methods like Gradient Descent or regularization techniques might be more appropriate.\n"
   ],
   "metadata": {
    "collapsed": false
   },
   "id": "bb6fb19e2739b01f"
  },
  {
   "cell_type": "markdown",
   "source": [
    "# Univariate Least Squares Regression"
   ],
   "metadata": {
    "collapsed": false
   },
   "id": "a223da8cf4c408f1"
  },
  {
   "cell_type": "code",
   "execution_count": 2,
   "outputs": [
    {
     "data": {
      "text/plain": "array([[1., 3.],\n       [1., 4.],\n       [1., 1.],\n       [1., 0.]])"
     },
     "execution_count": 2,
     "metadata": {},
     "output_type": "execute_result"
    }
   ],
   "source": [
    "# CONSTRUCTING X\n",
    "feature_1 = np.array([3, 4, 1, 0])\n",
    "ones = np.ones(\n",
    "    len(feature_1)\n",
    ")  # Adds a column of ones in order to calculate the intercept\n",
    "X = np.column_stack([ones, feature_1])\n",
    "X"
   ],
   "metadata": {
    "collapsed": false,
    "ExecuteTime": {
     "end_time": "2023-12-01T18:05:32.118927Z",
     "start_time": "2023-12-01T18:05:32.079781Z"
    }
   },
   "id": "15572d94d521d2f9"
  },
  {
   "cell_type": "code",
   "execution_count": 3,
   "outputs": [],
   "source": [
    "# CONSTRUCTING Y\n",
    "target = np.array([1, 2, 3, 4])\n",
    "Y = target.reshape(-1, 1)  # Here, the .T notation does not work"
   ],
   "metadata": {
    "collapsed": false,
    "ExecuteTime": {
     "end_time": "2023-12-01T18:05:35.395870Z",
     "start_time": "2023-12-01T18:05:35.364088Z"
    }
   },
   "id": "32754226c41c2bda"
  },
  {
   "cell_type": "code",
   "execution_count": 4,
   "outputs": [
    {
     "data": {
      "text/plain": "array([[1],\n       [2],\n       [3],\n       [4]])"
     },
     "execution_count": 4,
     "metadata": {},
     "output_type": "execute_result"
    }
   ],
   "source": [
    "Y"
   ],
   "metadata": {
    "collapsed": false,
    "ExecuteTime": {
     "end_time": "2023-12-01T18:05:38.246765Z",
     "start_time": "2023-12-01T18:05:38.195699Z"
    }
   },
   "id": "9c25e2a74b24496e"
  },
  {
   "cell_type": "code",
   "execution_count": 5,
   "outputs": [
    {
     "data": {
      "text/plain": "array([[ 4.,  8.],\n       [ 8., 26.]])"
     },
     "execution_count": 5,
     "metadata": {},
     "output_type": "execute_result"
    }
   ],
   "source": [
    "X.T @ X  # Calculating X's dot product"
   ],
   "metadata": {
    "collapsed": false,
    "ExecuteTime": {
     "end_time": "2023-12-01T18:05:39.779448Z",
     "start_time": "2023-12-01T18:05:39.742623Z"
    }
   },
   "id": "b513b71dda0b9c6f"
  },
  {
   "cell_type": "code",
   "execution_count": 6,
   "outputs": [
    {
     "data": {
      "text/plain": "array([[ 0.65, -0.2 ],\n       [-0.2 ,  0.1 ]])"
     },
     "execution_count": 6,
     "metadata": {},
     "output_type": "execute_result"
    }
   ],
   "source": [
    "np.linalg.inv(X.T @ X)"
   ],
   "metadata": {
    "collapsed": false,
    "ExecuteTime": {
     "end_time": "2023-12-01T18:05:42.726341Z",
     "start_time": "2023-12-01T18:05:42.694217Z"
    }
   },
   "id": "677013fe0bd04076"
  },
  {
   "cell_type": "code",
   "execution_count": 7,
   "outputs": [
    {
     "data": {
      "text/plain": "array([[ 3.7],\n       [-0.6]])"
     },
     "execution_count": 7,
     "metadata": {},
     "output_type": "execute_result"
    }
   ],
   "source": [
    "np.linalg.inv(X.T @ X) @ X.T @ Y"
   ],
   "metadata": {
    "collapsed": false,
    "ExecuteTime": {
     "end_time": "2023-12-01T18:05:43.712871Z",
     "start_time": "2023-12-01T18:05:43.673309Z"
    }
   },
   "id": "30a0a4170ea2d6f0"
  },
  {
   "cell_type": "code",
   "execution_count": 8,
   "outputs": [
    {
     "data": {
      "text/plain": "array([[ 3.7],\n       [-0.6]])"
     },
     "execution_count": 8,
     "metadata": {},
     "output_type": "execute_result"
    }
   ],
   "source": [
    "beta = np.linalg.inv(X.T @ X) @ X.T @ Y\n",
    "beta"
   ],
   "metadata": {
    "collapsed": false,
    "ExecuteTime": {
     "end_time": "2023-12-01T18:05:44.512629Z",
     "start_time": "2023-12-01T18:05:44.480370Z"
    }
   },
   "id": "4cb27c3c45de970d"
  },
  {
   "cell_type": "code",
   "execution_count": 9,
   "outputs": [
    {
     "data": {
      "text/plain": "array([[1.9],\n       [1.3],\n       [3.1],\n       [3.7]])"
     },
     "execution_count": 9,
     "metadata": {},
     "output_type": "execute_result"
    }
   ],
   "source": [
    "Y_hat = X @ beta\n",
    "Y_hat"
   ],
   "metadata": {
    "collapsed": false,
    "ExecuteTime": {
     "end_time": "2023-12-01T18:05:45.235415Z",
     "start_time": "2023-12-01T18:05:45.213227Z"
    }
   },
   "id": "3904eb03990d7c1"
  },
  {
   "cell_type": "code",
   "execution_count": 69,
   "outputs": [
    {
     "data": {
      "text/plain": "1"
     },
     "execution_count": 69,
     "metadata": {},
     "output_type": "execute_result"
    }
   ],
   "source": [
    "int(Y_hat[0, 0])"
   ],
   "metadata": {
    "collapsed": false,
    "ExecuteTime": {
     "end_time": "2023-12-01T18:48:16.365139Z",
     "start_time": "2023-12-01T18:48:16.338567Z"
    }
   },
   "id": "35d1c098b86a1548"
  },
  {
   "cell_type": "code",
   "execution_count": 63,
   "outputs": [
    {
     "data": {
      "text/plain": "array([[ 3.7],\n       [-0.6]])"
     },
     "execution_count": 63,
     "metadata": {},
     "output_type": "execute_result"
    }
   ],
   "source": [
    "beta"
   ],
   "metadata": {
    "collapsed": false,
    "ExecuteTime": {
     "end_time": "2023-12-01T18:36:35.781065Z",
     "start_time": "2023-12-01T18:36:35.737774Z"
    }
   },
   "id": "a2b65b030d78ab7e"
  },
  {
   "cell_type": "code",
   "execution_count": 64,
   "outputs": [
    {
     "data": {
      "text/plain": "-0.6000000000000001"
     },
     "execution_count": 64,
     "metadata": {},
     "output_type": "execute_result"
    }
   ],
   "source": [
    "beta[1, 0]"
   ],
   "metadata": {
    "collapsed": false,
    "ExecuteTime": {
     "end_time": "2023-12-01T18:36:49.214786Z",
     "start_time": "2023-12-01T18:36:49.197399Z"
    }
   },
   "id": "e623b54ed8c82754"
  },
  {
   "cell_type": "code",
   "execution_count": 12,
   "outputs": [
    {
     "data": {
      "text/plain": "array([3.7])"
     },
     "execution_count": 12,
     "metadata": {},
     "output_type": "execute_result"
    }
   ],
   "source": [
    "beta[0]"
   ],
   "metadata": {
    "collapsed": false,
    "ExecuteTime": {
     "end_time": "2023-12-01T18:05:50.923751Z",
     "start_time": "2023-12-01T18:05:50.912062Z"
    }
   },
   "id": "ff2724c879ce58df"
  },
  {
   "cell_type": "code",
   "execution_count": 43,
   "outputs": [
    {
     "data": {
      "text/plain": "array([[1],\n       [2]])"
     },
     "execution_count": 43,
     "metadata": {},
     "output_type": "execute_result"
    }
   ],
   "source": [
    "a = 1\n",
    "b = 2\n",
    "test = np.column_stack([a, b]).T\n",
    "test"
   ],
   "metadata": {
    "collapsed": false,
    "ExecuteTime": {
     "end_time": "2023-12-01T18:20:04.919835Z",
     "start_time": "2023-12-01T18:20:04.911501Z"
    }
   },
   "id": "7e7efff0182ed53a"
  },
  {
   "cell_type": "code",
   "execution_count": 13,
   "outputs": [
    {
     "data": {
      "text/plain": "<Figure size 640x480 with 1 Axes>",
      "image/png": "[encoded data removed]"
     },
     "metadata": {},
     "output_type": "display_data"
    }
   ],
   "source": [
    "fig, ax = plt.subplots()\n",
    "\n",
    "ax.scatter(feature_1, target, color=\"blue\", label=\"Train Data\")\n",
    "\n",
    "ax.scatter(feature_1, Y_hat, color=\"red\", label=\"Fitted Data\")\n",
    "\n",
    "x_vals = np.linspace(min(feature_1) - 1, max(feature_1) + 1, 100)\n",
    "y_vals = beta[0] + beta[1] * x_vals\n",
    "ax.plot(x_vals, y_vals, color=\"green\", label=\"Prediction Line\")\n",
    "\n",
    "for xi, yi, yhati in zip(feature_1, target, Y_hat.flatten()):\n",
    "    line = ax.plot([xi, xi], [yi, yhati], color=\"gray\", linestyle=\"--\")\n",
    "    distance = np.abs(yi - yhati)\n",
    "    ax.text(xi, (yi + yhati) / 2, f\"{distance:.2f}\", ha=\"right\")\n",
    "\n",
    "ax.set_xlabel(\"Feature 1\")\n",
    "ax.set_ylabel(\"Target\")\n",
    "ax.set_title(\"Scatter Plot with Fit Data, Prediction Line, and Distances with Values\")\n",
    "ax.legend()\n",
    "\n",
    "# Show the plot with distances values\n",
    "plt.show()"
   ],
   "metadata": {
    "collapsed": false,
    "ExecuteTime": {
     "end_time": "2023-12-01T18:05:52.796381Z",
     "start_time": "2023-12-01T18:05:52.398438Z"
    }
   },
   "id": "be26cd6779f3264b"
  },
  {
   "cell_type": "markdown",
   "source": [
    "# Bivariate "
   ],
   "metadata": {
    "collapsed": false
   },
   "id": "478f728ca8176141"
  },
  {
   "cell_type": "code",
   "execution_count": 71,
   "outputs": [],
   "source": [
    "# CONSTRUCTING X\n",
    "feature_1 = np.array([3, 4, 1, 0])\n",
    "feature_2 = np.array([9, 16, 1, 0])\n",
    "feature_3 = np.array([8, 1, 10, 4])\n",
    "\n",
    "X = np.column_stack([feature_1])\n",
    "\n",
    "# CONSTRUCTING Y\n",
    "target = np.array([1, 2, 3, 4])\n",
    "Y = target.reshape(-1, 1)  # Here, the .T notation does not work"
   ],
   "metadata": {
    "collapsed": false,
    "ExecuteTime": {
     "end_time": "2023-12-01T18:49:24.743330Z",
     "start_time": "2023-12-01T18:49:24.717094Z"
    }
   },
   "id": "98f4f5c76f202e47"
  },
  {
   "cell_type": "code",
   "execution_count": 46,
   "outputs": [
    {
     "data": {
      "text/plain": "array([[ 8.47698882, -2.12491782, -0.62919132],\n       [-2.12491782,  0.53616042,  0.15581854],\n       [-0.62919132,  0.15581854,  0.05325444]])"
     },
     "execution_count": 46,
     "metadata": {},
     "output_type": "execute_result"
    }
   ],
   "source": [
    "np.linalg.inv(X.T @ X)"
   ],
   "metadata": {
    "collapsed": false,
    "ExecuteTime": {
     "end_time": "2023-12-01T18:26:41.767091Z",
     "start_time": "2023-12-01T18:26:41.740617Z"
    }
   },
   "id": "cff3a92dd1b36dad"
  },
  {
   "cell_type": "code",
   "execution_count": 72,
   "outputs": [],
   "source": [
    "model = least_squares()\n",
    "results = model.fit(x=X, y=Y)"
   ],
   "metadata": {
    "collapsed": false,
    "ExecuteTime": {
     "end_time": "2023-12-01T18:49:28.521772Z",
     "start_time": "2023-12-01T18:49:28.481685Z"
    }
   },
   "id": "ef58bafeeb06cf2e"
  },
  {
   "cell_type": "code",
   "execution_count": 111,
   "outputs": [
    {
     "data": {
      "text/plain": "1.9"
     },
     "execution_count": 111,
     "metadata": {},
     "output_type": "execute_result"
    }
   ],
   "source": [
    "test = results.predict(X)\n",
    "[arr[0] for arr in test][0]"
   ],
   "metadata": {
    "collapsed": false,
    "ExecuteTime": {
     "end_time": "2023-12-01T19:00:37.208871Z",
     "start_time": "2023-12-01T19:00:37.180679Z"
    }
   },
   "id": "c6f70b79430d910d"
  },
  {
   "cell_type": "code",
   "execution_count": null,
   "outputs": [],
   "source": [],
   "metadata": {
    "collapsed": false
   },
   "id": "9f107ed800377f72"
  }
 ],
 "metadata": {
  "kernelspec": {
   "display_name": "Python 3",
   "language": "python",
   "name": "python3"
  },
  "language_info": {
   "codemirror_mode": {
    "name": "ipython",
    "version": 2
   },
   "file_extension": ".py",
   "mimetype": "text/x-python",
   "name": "python",
   "nbconvert_exporter": "python",
   "pygments_lexer": "ipython2",
   "version": "2.7.6"
  }
 },
 "nbformat": 4,
 "nbformat_minor": 5
}
